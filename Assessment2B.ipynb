{
  "cells": [
    {
      "cell_type": "markdown",
      "metadata": {
        "id": "fEF4UGfHChK1"
      },
      "source": [
        "###### Assessment"
      ]
    },
    {
      "cell_type": "markdown",
      "metadata": {
        "id": "E3Kwf-mGChK7"
      },
      "source": [
        "###### I am going to provide two .csv files , you are supposed to work on them and have to provide solutions to the following problems"
      ]
    },
    {
      "cell_type": "markdown",
      "metadata": {
        "id": "MMJV35_rChK8"
      },
      "source": [
        "###### import necessary libraries"
      ]
    },
    {
      "cell_type": "code",
      "execution_count": null,
      "metadata": {
        "id": "5zkMWNrvChK9"
      },
      "outputs": [],
      "source": [
        "import pandas as pd"
      ]
    },
    {
      "cell_type": "markdown",
      "metadata": {
        "id": "D_y2z668ChK9"
      },
      "source": [
        "###### merge those two csv files (after getting as dataframes, get them as a single dataframe)"
      ]
    },
    {
      "cell_type": "code",
      "execution_count": null,
      "metadata": {
        "id": "dw8GdkccChK-"
      },
      "outputs": [],
      "source": [
        "df=pd.merge(df1,df2,how='outer')\n",
        "df"
      ]
    },
    {
      "cell_type": "markdown",
      "metadata": {
        "id": "_PWPYQbgChK-"
      },
      "source": [
        "###### Take each csv file , split that csv file into multiple categories (example csv files are added in the repo) \n"
      ]
    },
    {
      "cell_type": "markdown",
      "metadata": {
        "id": "2UbyaTZwChK_"
      },
      "source": [
        "###### consider if the codekata score exceeds 15000 points(present week) then make a csv on those observations as Exceeded expectations.csv\n"
      ]
    },
    {
      "cell_type": "markdown",
      "metadata": {
        "id": "2eAtubAMChLA"
      },
      "source": [
        "###### if  10000<codekata score<15000   (Reached_expectations.csv)\n",
        "\n"
      ]
    },
    {
      "cell_type": "markdown",
      "metadata": {
        "id": "6Yl38wDEChLA"
      },
      "source": [
        "###### if  7000<codekata score<10000   (Needs_Improvement.csv)\n"
      ]
    },
    {
      "cell_type": "markdown",
      "metadata": {
        "id": "HyfCzzp2ChLB"
      },
      "source": [
        "###### if  codekate score < 7000        (Unsatisfactory.csv)"
      ]
    },
    {
      "cell_type": "code",
      "execution_count": null,
      "metadata": {
        "id": "a-AQgJHzChLB"
      },
      "outputs": [],
      "source": [
        "ee=df.loc[df[\"CodeKata Score\"]>15000]\n",
        "ee.to_csv(\"exceeded_expectations.csv\")\n",
        "\n",
        "re=df.loc[(df[\"CodeKata Score\"]>10000)&(df[\"CodeKata Score\"]<=15000)]\n",
        "re.to_csv(\"reached_expectations.csv\")"
      ]
    },
    {
      "cell_type": "code",
      "execution_count": null,
      "metadata": {
        "id": "XGgfB0mqChLC"
      },
      "outputs": [],
      "source": [
        "ni=df.loc[(df[\"CodeKata Score\"]>7000)&(df[\"CodeKata Score\"]<=10000)]\n",
        "ni.to_csv(\"need_improvement.csv\")\n",
        "\n",
        "uf=df.loc[df[\"CodeKata Score\"]<7000]\n",
        "uf.to_csv(\"unsatisfactory.csv\")"
      ]
    },
    {
      "cell_type": "markdown",
      "metadata": {
        "id": "oYbwwVFnChLC"
      },
      "source": [
        "###### Average of previous week geekions vs this week geekions (i.e Previous Geekions vs CodeKata Score)"
      ]
    },
    {
      "cell_type": "code",
      "execution_count": null,
      "metadata": {
        "id": "_vxoKYUaChLC"
      },
      "outputs": [],
      "source": [
        "col=[\"Previous Geekions\",\"CodeKata Score\"]\n",
        "av=df[col].mean()\n",
        "av"
      ]
    },
    {
      "cell_type": "markdown",
      "metadata": {
        "id": "N5pfX6FoChLD"
      },
      "source": [
        "###### No of students participated "
      ]
    },
    {
      "cell_type": "code",
      "execution_count": null,
      "metadata": {
        "id": "Hl5v78OWChLD"
      },
      "outputs": [],
      "source": [
        "total=df.shape\n",
        "total[0]"
      ]
    },
    {
      "cell_type": "markdown",
      "metadata": {
        "id": "670MKDSiChLE"
      },
      "source": [
        "###### #Average completion of python course or my_sql or python english or computational thinking"
      ]
    },
    {
      "cell_type": "code",
      "execution_count": null,
      "metadata": {
        "id": "STcJS-lbChLE"
      },
      "outputs": [],
      "source": [
        "ac=df.python\n",
        "ac.mean()"
      ]
    },
    {
      "cell_type": "markdown",
      "metadata": {
        "id": "vauyDFkbChLE"
      },
      "source": [
        "###### rising star of the week (top 3 candidate who performed well in that particular week)"
      ]
    },
    {
      "cell_type": "code",
      "execution_count": null,
      "metadata": {
        "id": "AcTthGtMChLF"
      },
      "outputs": [],
      "source": [
        ""
      ]
    },
    {
      "cell_type": "markdown",
      "metadata": {
        "id": "19FmIO7TChLF"
      },
      "source": [
        "###### Shining stars of the week (top 3 candidates who has highest geekions)"
      ]
    },
    {
      "cell_type": "code",
      "execution_count": null,
      "metadata": {
        "id": "_YPCk2JzChLF"
      },
      "outputs": [],
      "source": [
        "rs=df.sort_values(by=['Previous Geekions'],ascending=False)\n",
        "rs.head(3)"
      ]
    },
    {
      "cell_type": "markdown",
      "metadata": {
        "id": "6fmf-eXfChLF"
      },
      "source": [
        "###### Department wise codekata performence (pie chart)"
      ]
    },
    {
      "cell_type": "code",
      "execution_count": null,
      "metadata": {
        "id": "tivG70yyChLF"
      },
      "outputs": [],
      "source": [
        "import plotly.express as px\n",
        "fig = px.pie(df, values='CodeKata Score', names='Department', title='Department wise codekata performence')\n",
        "fig.show()"
      ]
    },
    {
      "cell_type": "markdown",
      "metadata": {
        "id": "sK2TXTdcChLG"
      },
      "source": [
        "###### Department wise toppers (horizantal bar graph or any visual representations of your choice)"
      ]
    },
    {
      "cell_type": "code",
      "execution_count": null,
      "metadata": {
        "id": "RmTytPIKChLG"
      },
      "outputs": [],
      "source": [
        "fig = px.bar(df, x='CodeKata Score', y=\"Department\", orientation='h')\n",
        "fig.show()"
      ]
    },
    {
      "cell_type": "code",
      "execution_count": null,
      "metadata": {
        "id": "casZkPtSChLG"
      },
      "outputs": [],
      "source": [
        ""
      ]
    },
    {
      "cell_type": "code",
      "execution_count": null,
      "metadata": {
        "id": "G7CZ0_WOChLG"
      },
      "outputs": [],
      "source": [
        ""
      ]
    },
    {
      "cell_type": "code",
      "execution_count": null,
      "metadata": {
        "id": "0tN36CUCChLG"
      },
      "outputs": [],
      "source": [
        ""
      ]
    }
  ],
  "metadata": {
    "kernelspec": {
      "display_name": "Python 3",
      "language": "python",
      "name": "python3"
    },
    "language_info": {
      "codemirror_mode": {
        "name": "ipython",
        "version": 3
      },
      "file_extension": ".py",
      "mimetype": "text/x-python",
      "name": "python",
      "nbconvert_exporter": "python",
      "pygments_lexer": "ipython3",
      "version": "3.8.3"
    },
    "colab": {
      "name": "Assessment2B.ipynb",
      "provenance": []
    }
  },
  "nbformat": 4,
  "nbformat_minor": 0
}